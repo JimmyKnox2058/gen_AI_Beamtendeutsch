{
 "cells": [
  {
   "cell_type": "markdown",
   "id": "ff02d2ae",
   "metadata": {
    "id": "t5yNOH5JHj0A",
    "papermill": {
     "duration": 0.013818,
     "end_time": "2024-04-25T15:23:35.910698",
     "exception": false,
     "start_time": "2024-04-25T15:23:35.896880",
     "status": "completed"
    },
    "tags": []
   },
   "source": [
    "### Projektarbeit für Deep Learning - Alfatraining\n",
    "Michael Heinrich - Bochum\n",
    "Hinweis: Siehe Präsentation und Links am Ende"
   ]
  },
  {
   "cell_type": "code",
   "execution_count": 1,
   "id": "da9cd7bd",
   "metadata": {
    "execution": {
     "iopub.execute_input": "2024-04-25T15:23:35.938719Z",
     "iopub.status.busy": "2024-04-25T15:23:35.938373Z",
     "iopub.status.idle": "2024-04-25T15:24:47.143666Z",
     "shell.execute_reply": "2024-04-25T15:24:47.142559Z"
    },
    "executionInfo": {
     "elapsed": 295,
     "status": "ok",
     "timestamp": 1713964644190,
     "user": {
      "displayName": "Jimmy Knox",
      "userId": "00773664586105526662"
     },
     "user_tz": -120
    },
    "id": "wmWS3T4IIfV5",
    "papermill": {
     "duration": 71.222106,
     "end_time": "2024-04-25T15:24:47.146112",
     "exception": false,
     "start_time": "2024-04-25T15:23:35.924006",
     "status": "completed"
    },
    "tags": []
   },
   "outputs": [
    {
     "name": "stdout",
     "output_type": "stream",
     "text": [
      "Collecting spacypdfreader\r\n",
      "  Downloading spacypdfreader-0.3.1-py3-none-any.whl.metadata (5.2 kB)\r\n",
      "Requirement already satisfied: numpy<2.0.0,>=1.24.2 in /opt/conda/lib/python3.10/site-packages (from spacypdfreader) (1.26.4)\r\n",
      "Collecting pdfminer.six<20211013,>=20211012 (from spacypdfreader)\r\n",
      "  Downloading pdfminer.six-20211012-py3-none-any.whl.metadata (3.5 kB)\r\n",
      "Collecting rich<11.0.0,>=10.15.2 (from spacypdfreader)\r\n",
      "  Downloading rich-10.16.2-py3-none-any.whl.metadata (19 kB)\r\n",
      "Requirement already satisfied: spacy<4.0,>=3.4 in /opt/conda/lib/python3.10/site-packages (from spacypdfreader) (3.7.3)\r\n",
      "Requirement already satisfied: cryptography in /opt/conda/lib/python3.10/site-packages (from pdfminer.six<20211013,>=20211012->spacypdfreader) (41.0.7)\r\n",
      "Collecting chardet (from pdfminer.six<20211013,>=20211012->spacypdfreader)\r\n",
      "  Downloading chardet-5.2.0-py3-none-any.whl.metadata (3.4 kB)\r\n",
      "Requirement already satisfied: colorama<0.5.0,>=0.4.0 in /opt/conda/lib/python3.10/site-packages (from rich<11.0.0,>=10.15.2->spacypdfreader) (0.4.6)\r\n",
      "Collecting commonmark<0.10.0,>=0.9.0 (from rich<11.0.0,>=10.15.2->spacypdfreader)\r\n",
      "  Downloading commonmark-0.9.1-py2.py3-none-any.whl.metadata (5.7 kB)\r\n",
      "Requirement already satisfied: pygments<3.0.0,>=2.6.0 in /opt/conda/lib/python3.10/site-packages (from rich<11.0.0,>=10.15.2->spacypdfreader) (2.17.2)\r\n",
      "Requirement already satisfied: spacy-legacy<3.1.0,>=3.0.11 in /opt/conda/lib/python3.10/site-packages (from spacy<4.0,>=3.4->spacypdfreader) (3.0.12)\r\n",
      "Requirement already satisfied: spacy-loggers<2.0.0,>=1.0.0 in /opt/conda/lib/python3.10/site-packages (from spacy<4.0,>=3.4->spacypdfreader) (1.0.5)\r\n",
      "Requirement already satisfied: murmurhash<1.1.0,>=0.28.0 in /opt/conda/lib/python3.10/site-packages (from spacy<4.0,>=3.4->spacypdfreader) (1.0.10)\r\n",
      "Requirement already satisfied: cymem<2.1.0,>=2.0.2 in /opt/conda/lib/python3.10/site-packages (from spacy<4.0,>=3.4->spacypdfreader) (2.0.8)\r\n",
      "Requirement already satisfied: preshed<3.1.0,>=3.0.2 in /opt/conda/lib/python3.10/site-packages (from spacy<4.0,>=3.4->spacypdfreader) (3.0.9)\r\n",
      "Requirement already satisfied: thinc<8.3.0,>=8.2.2 in /opt/conda/lib/python3.10/site-packages (from spacy<4.0,>=3.4->spacypdfreader) (8.2.2)\r\n",
      "Requirement already satisfied: wasabi<1.2.0,>=0.9.1 in /opt/conda/lib/python3.10/site-packages (from spacy<4.0,>=3.4->spacypdfreader) (1.1.2)\r\n",
      "Requirement already satisfied: srsly<3.0.0,>=2.4.3 in /opt/conda/lib/python3.10/site-packages (from spacy<4.0,>=3.4->spacypdfreader) (2.4.8)\r\n",
      "Requirement already satisfied: catalogue<2.1.0,>=2.0.6 in /opt/conda/lib/python3.10/site-packages (from spacy<4.0,>=3.4->spacypdfreader) (2.0.10)\r\n",
      "Requirement already satisfied: weasel<0.4.0,>=0.1.0 in /opt/conda/lib/python3.10/site-packages (from spacy<4.0,>=3.4->spacypdfreader) (0.3.4)\r\n",
      "Requirement already satisfied: typer<0.10.0,>=0.3.0 in /opt/conda/lib/python3.10/site-packages (from spacy<4.0,>=3.4->spacypdfreader) (0.9.0)\r\n",
      "Requirement already satisfied: smart-open<7.0.0,>=5.2.1 in /opt/conda/lib/python3.10/site-packages (from spacy<4.0,>=3.4->spacypdfreader) (6.4.0)\r\n",
      "Requirement already satisfied: tqdm<5.0.0,>=4.38.0 in /opt/conda/lib/python3.10/site-packages (from spacy<4.0,>=3.4->spacypdfreader) (4.66.1)\r\n",
      "Requirement already satisfied: requests<3.0.0,>=2.13.0 in /opt/conda/lib/python3.10/site-packages (from spacy<4.0,>=3.4->spacypdfreader) (2.31.0)\r\n",
      "Requirement already satisfied: pydantic!=1.8,!=1.8.1,<3.0.0,>=1.7.4 in /opt/conda/lib/python3.10/site-packages (from spacy<4.0,>=3.4->spacypdfreader) (2.5.3)\r\n",
      "Requirement already satisfied: jinja2 in /opt/conda/lib/python3.10/site-packages (from spacy<4.0,>=3.4->spacypdfreader) (3.1.2)\r\n",
      "Requirement already satisfied: setuptools in /opt/conda/lib/python3.10/site-packages (from spacy<4.0,>=3.4->spacypdfreader) (69.0.3)\r\n",
      "Requirement already satisfied: packaging>=20.0 in /opt/conda/lib/python3.10/site-packages (from spacy<4.0,>=3.4->spacypdfreader) (21.3)\r\n",
      "Requirement already satisfied: langcodes<4.0.0,>=3.2.0 in /opt/conda/lib/python3.10/site-packages (from spacy<4.0,>=3.4->spacypdfreader) (3.3.0)\r\n",
      "Requirement already satisfied: pyparsing!=3.0.5,>=2.0.2 in /opt/conda/lib/python3.10/site-packages (from packaging>=20.0->spacy<4.0,>=3.4->spacypdfreader) (3.1.1)\r\n",
      "Requirement already satisfied: annotated-types>=0.4.0 in /opt/conda/lib/python3.10/site-packages (from pydantic!=1.8,!=1.8.1,<3.0.0,>=1.7.4->spacy<4.0,>=3.4->spacypdfreader) (0.6.0)\r\n",
      "Requirement already satisfied: pydantic-core==2.14.6 in /opt/conda/lib/python3.10/site-packages (from pydantic!=1.8,!=1.8.1,<3.0.0,>=1.7.4->spacy<4.0,>=3.4->spacypdfreader) (2.14.6)\r\n",
      "Requirement already satisfied: typing-extensions>=4.6.1 in /opt/conda/lib/python3.10/site-packages (from pydantic!=1.8,!=1.8.1,<3.0.0,>=1.7.4->spacy<4.0,>=3.4->spacypdfreader) (4.9.0)\r\n",
      "Requirement already satisfied: charset-normalizer<4,>=2 in /opt/conda/lib/python3.10/site-packages (from requests<3.0.0,>=2.13.0->spacy<4.0,>=3.4->spacypdfreader) (3.3.2)\r\n",
      "Requirement already satisfied: idna<4,>=2.5 in /opt/conda/lib/python3.10/site-packages (from requests<3.0.0,>=2.13.0->spacy<4.0,>=3.4->spacypdfreader) (3.6)\r\n",
      "Requirement already satisfied: urllib3<3,>=1.21.1 in /opt/conda/lib/python3.10/site-packages (from requests<3.0.0,>=2.13.0->spacy<4.0,>=3.4->spacypdfreader) (1.26.18)\r\n",
      "Requirement already satisfied: certifi>=2017.4.17 in /opt/conda/lib/python3.10/site-packages (from requests<3.0.0,>=2.13.0->spacy<4.0,>=3.4->spacypdfreader) (2024.2.2)\r\n",
      "Requirement already satisfied: blis<0.8.0,>=0.7.8 in /opt/conda/lib/python3.10/site-packages (from thinc<8.3.0,>=8.2.2->spacy<4.0,>=3.4->spacypdfreader) (0.7.10)\r\n",
      "Requirement already satisfied: confection<1.0.0,>=0.0.1 in /opt/conda/lib/python3.10/site-packages (from thinc<8.3.0,>=8.2.2->spacy<4.0,>=3.4->spacypdfreader) (0.1.4)\r\n",
      "Requirement already satisfied: click<9.0.0,>=7.1.1 in /opt/conda/lib/python3.10/site-packages (from typer<0.10.0,>=0.3.0->spacy<4.0,>=3.4->spacypdfreader) (8.1.7)\r\n",
      "Requirement already satisfied: cloudpathlib<0.17.0,>=0.7.0 in /opt/conda/lib/python3.10/site-packages (from weasel<0.4.0,>=0.1.0->spacy<4.0,>=3.4->spacypdfreader) (0.16.0)\r\n",
      "Requirement already satisfied: cffi>=1.12 in /opt/conda/lib/python3.10/site-packages (from cryptography->pdfminer.six<20211013,>=20211012->spacypdfreader) (1.16.0)\r\n",
      "Requirement already satisfied: MarkupSafe>=2.0 in /opt/conda/lib/python3.10/site-packages (from jinja2->spacy<4.0,>=3.4->spacypdfreader) (2.1.3)\r\n",
      "Requirement already satisfied: pycparser in /opt/conda/lib/python3.10/site-packages (from cffi>=1.12->cryptography->pdfminer.six<20211013,>=20211012->spacypdfreader) (2.21)\r\n",
      "Downloading spacypdfreader-0.3.1-py3-none-any.whl (10 kB)\r\n",
      "Downloading pdfminer.six-20211012-py3-none-any.whl (5.6 MB)\r\n",
      "\u001b[2K   \u001b[90m━━━━━━━━━━━━━━━━━━━━━━━━━━━━━━━━━━━━━━━━\u001b[0m \u001b[32m5.6/5.6 MB\u001b[0m \u001b[31m58.5 MB/s\u001b[0m eta \u001b[36m0:00:00\u001b[0m\r\n",
      "\u001b[?25hDownloading rich-10.16.2-py3-none-any.whl (214 kB)\r\n",
      "\u001b[2K   \u001b[90m━━━━━━━━━━━━━━━━━━━━━━━━━━━━━━━━━━━━━━━━\u001b[0m \u001b[32m214.4/214.4 kB\u001b[0m \u001b[31m13.8 MB/s\u001b[0m eta \u001b[36m0:00:00\u001b[0m\r\n",
      "\u001b[?25hDownloading commonmark-0.9.1-py2.py3-none-any.whl (51 kB)\r\n",
      "\u001b[2K   \u001b[90m━━━━━━━━━━━━━━━━━━━━━━━━━━━━━━━━━━━━━━━━\u001b[0m \u001b[32m51.1/51.1 kB\u001b[0m \u001b[31m3.5 MB/s\u001b[0m eta \u001b[36m0:00:00\u001b[0m\r\n",
      "\u001b[?25hDownloading chardet-5.2.0-py3-none-any.whl (199 kB)\r\n",
      "\u001b[2K   \u001b[90m━━━━━━━━━━━━━━━━━━━━━━━━━━━━━━━━━━━━━━━━\u001b[0m \u001b[32m199.4/199.4 kB\u001b[0m \u001b[31m12.9 MB/s\u001b[0m eta \u001b[36m0:00:00\u001b[0m\r\n",
      "\u001b[?25hInstalling collected packages: commonmark, rich, chardet, pdfminer.six, spacypdfreader\r\n",
      "  Attempting uninstall: rich\r\n",
      "    Found existing installation: rich 13.7.0\r\n",
      "    Uninstalling rich-13.7.0:\r\n",
      "      Successfully uninstalled rich-13.7.0\r\n",
      "\u001b[31mERROR: pip's dependency resolver does not currently take into account all the packages that are installed. This behaviour is the source of the following dependency conflicts.\r\n",
      "keras-nlp 0.9.3 requires keras-core, which is not installed.\r\n",
      "tensorflow-decision-forests 1.8.1 requires wurlitzer, which is not installed.\r\n",
      "flax 0.8.2 requires rich>=11.1, but you have rich 10.16.2 which is incompatible.\r\n",
      "tensorflow 2.15.0 requires keras<2.16,>=2.15.0, but you have keras 3.2.1 which is incompatible.\u001b[0m\u001b[31m\r\n",
      "\u001b[0mSuccessfully installed chardet-5.2.0 commonmark-0.9.1 pdfminer.six-20211012 rich-10.16.2 spacypdfreader-0.3.1\r\n",
      "Requirement already satisfied: pdf2image in /opt/conda/lib/python3.10/site-packages (1.17.0)\r\n",
      "Requirement already satisfied: pillow in /opt/conda/lib/python3.10/site-packages (from pdf2image) (9.5.0)\r\n",
      "Requirement already satisfied: pytesseract in /opt/conda/lib/python3.10/site-packages (0.3.10)\r\n",
      "Requirement already satisfied: packaging>=21.3 in /opt/conda/lib/python3.10/site-packages (from pytesseract) (21.3)\r\n",
      "Requirement already satisfied: Pillow>=8.0.0 in /opt/conda/lib/python3.10/site-packages (from pytesseract) (9.5.0)\r\n",
      "Requirement already satisfied: pyparsing!=3.0.5,>=2.0.2 in /opt/conda/lib/python3.10/site-packages (from packaging>=21.3->pytesseract) (3.1.1)\r\n",
      "Collecting de-dep-news-trf==3.7.2\r\n",
      "  Downloading https://github.com/explosion/spacy-models/releases/download/de_dep_news_trf-3.7.2/de_dep_news_trf-3.7.2-py3-none-any.whl (410.5 MB)\r\n",
      "\u001b[2K     \u001b[90m━━━━━━━━━━━━━━━━━━━━━━━━━━━━━━━━━━━━━━━\u001b[0m \u001b[32m410.5/410.5 MB\u001b[0m \u001b[31m4.0 MB/s\u001b[0m eta \u001b[36m0:00:00\u001b[0m\r\n",
      "\u001b[?25hRequirement already satisfied: spacy<3.8.0,>=3.7.0 in /opt/conda/lib/python3.10/site-packages (from de-dep-news-trf==3.7.2) (3.7.3)\r\n",
      "Collecting spacy-curated-transformers<0.3.0,>=0.2.0 (from de-dep-news-trf==3.7.2)\r\n",
      "  Downloading spacy_curated_transformers-0.2.2-py2.py3-none-any.whl.metadata (2.7 kB)\r\n",
      "Requirement already satisfied: spacy-legacy<3.1.0,>=3.0.11 in /opt/conda/lib/python3.10/site-packages (from spacy<3.8.0,>=3.7.0->de-dep-news-trf==3.7.2) (3.0.12)\r\n",
      "Requirement already satisfied: spacy-loggers<2.0.0,>=1.0.0 in /opt/conda/lib/python3.10/site-packages (from spacy<3.8.0,>=3.7.0->de-dep-news-trf==3.7.2) (1.0.5)\r\n",
      "Requirement already satisfied: murmurhash<1.1.0,>=0.28.0 in /opt/conda/lib/python3.10/site-packages (from spacy<3.8.0,>=3.7.0->de-dep-news-trf==3.7.2) (1.0.10)\r\n",
      "Requirement already satisfied: cymem<2.1.0,>=2.0.2 in /opt/conda/lib/python3.10/site-packages (from spacy<3.8.0,>=3.7.0->de-dep-news-trf==3.7.2) (2.0.8)\r\n",
      "Requirement already satisfied: preshed<3.1.0,>=3.0.2 in /opt/conda/lib/python3.10/site-packages (from spacy<3.8.0,>=3.7.0->de-dep-news-trf==3.7.2) (3.0.9)\r\n",
      "Requirement already satisfied: thinc<8.3.0,>=8.2.2 in /opt/conda/lib/python3.10/site-packages (from spacy<3.8.0,>=3.7.0->de-dep-news-trf==3.7.2) (8.2.2)\r\n",
      "Requirement already satisfied: wasabi<1.2.0,>=0.9.1 in /opt/conda/lib/python3.10/site-packages (from spacy<3.8.0,>=3.7.0->de-dep-news-trf==3.7.2) (1.1.2)\r\n",
      "Requirement already satisfied: srsly<3.0.0,>=2.4.3 in /opt/conda/lib/python3.10/site-packages (from spacy<3.8.0,>=3.7.0->de-dep-news-trf==3.7.2) (2.4.8)\r\n",
      "Requirement already satisfied: catalogue<2.1.0,>=2.0.6 in /opt/conda/lib/python3.10/site-packages (from spacy<3.8.0,>=3.7.0->de-dep-news-trf==3.7.2) (2.0.10)\r\n",
      "Requirement already satisfied: weasel<0.4.0,>=0.1.0 in /opt/conda/lib/python3.10/site-packages (from spacy<3.8.0,>=3.7.0->de-dep-news-trf==3.7.2) (0.3.4)\r\n",
      "Requirement already satisfied: typer<0.10.0,>=0.3.0 in /opt/conda/lib/python3.10/site-packages (from spacy<3.8.0,>=3.7.0->de-dep-news-trf==3.7.2) (0.9.0)\r\n",
      "Requirement already satisfied: smart-open<7.0.0,>=5.2.1 in /opt/conda/lib/python3.10/site-packages (from spacy<3.8.0,>=3.7.0->de-dep-news-trf==3.7.2) (6.4.0)\r\n",
      "Requirement already satisfied: tqdm<5.0.0,>=4.38.0 in /opt/conda/lib/python3.10/site-packages (from spacy<3.8.0,>=3.7.0->de-dep-news-trf==3.7.2) (4.66.1)\r\n",
      "Requirement already satisfied: requests<3.0.0,>=2.13.0 in /opt/conda/lib/python3.10/site-packages (from spacy<3.8.0,>=3.7.0->de-dep-news-trf==3.7.2) (2.31.0)\r\n",
      "Requirement already satisfied: pydantic!=1.8,!=1.8.1,<3.0.0,>=1.7.4 in /opt/conda/lib/python3.10/site-packages (from spacy<3.8.0,>=3.7.0->de-dep-news-trf==3.7.2) (2.5.3)\r\n",
      "Requirement already satisfied: jinja2 in /opt/conda/lib/python3.10/site-packages (from spacy<3.8.0,>=3.7.0->de-dep-news-trf==3.7.2) (3.1.2)\r\n",
      "Requirement already satisfied: setuptools in /opt/conda/lib/python3.10/site-packages (from spacy<3.8.0,>=3.7.0->de-dep-news-trf==3.7.2) (69.0.3)\r\n",
      "Requirement already satisfied: packaging>=20.0 in /opt/conda/lib/python3.10/site-packages (from spacy<3.8.0,>=3.7.0->de-dep-news-trf==3.7.2) (21.3)\r\n",
      "Requirement already satisfied: langcodes<4.0.0,>=3.2.0 in /opt/conda/lib/python3.10/site-packages (from spacy<3.8.0,>=3.7.0->de-dep-news-trf==3.7.2) (3.3.0)\r\n",
      "Requirement already satisfied: numpy>=1.19.0 in /opt/conda/lib/python3.10/site-packages (from spacy<3.8.0,>=3.7.0->de-dep-news-trf==3.7.2) (1.26.4)\r\n",
      "Collecting curated-transformers<0.2.0,>=0.1.0 (from spacy-curated-transformers<0.3.0,>=0.2.0->de-dep-news-trf==3.7.2)\r\n",
      "  Downloading curated_transformers-0.1.1-py2.py3-none-any.whl.metadata (965 bytes)\r\n",
      "Collecting curated-tokenizers<0.1.0,>=0.0.9 (from spacy-curated-transformers<0.3.0,>=0.2.0->de-dep-news-trf==3.7.2)\r\n",
      "  Downloading curated_tokenizers-0.0.9-cp310-cp310-manylinux_2_17_x86_64.manylinux2014_x86_64.whl.metadata (1.9 kB)\r\n",
      "Requirement already satisfied: torch>=1.12.0 in /opt/conda/lib/python3.10/site-packages (from spacy-curated-transformers<0.3.0,>=0.2.0->de-dep-news-trf==3.7.2) (2.1.2)\r\n",
      "Requirement already satisfied: regex>=2022 in /opt/conda/lib/python3.10/site-packages (from curated-tokenizers<0.1.0,>=0.0.9->spacy-curated-transformers<0.3.0,>=0.2.0->de-dep-news-trf==3.7.2) (2023.12.25)\r\n",
      "Requirement already satisfied: pyparsing!=3.0.5,>=2.0.2 in /opt/conda/lib/python3.10/site-packages (from packaging>=20.0->spacy<3.8.0,>=3.7.0->de-dep-news-trf==3.7.2) (3.1.1)\r\n",
      "Requirement already satisfied: annotated-types>=0.4.0 in /opt/conda/lib/python3.10/site-packages (from pydantic!=1.8,!=1.8.1,<3.0.0,>=1.7.4->spacy<3.8.0,>=3.7.0->de-dep-news-trf==3.7.2) (0.6.0)\r\n",
      "Requirement already satisfied: pydantic-core==2.14.6 in /opt/conda/lib/python3.10/site-packages (from pydantic!=1.8,!=1.8.1,<3.0.0,>=1.7.4->spacy<3.8.0,>=3.7.0->de-dep-news-trf==3.7.2) (2.14.6)\r\n",
      "Requirement already satisfied: typing-extensions>=4.6.1 in /opt/conda/lib/python3.10/site-packages (from pydantic!=1.8,!=1.8.1,<3.0.0,>=1.7.4->spacy<3.8.0,>=3.7.0->de-dep-news-trf==3.7.2) (4.9.0)\r\n",
      "Requirement already satisfied: charset-normalizer<4,>=2 in /opt/conda/lib/python3.10/site-packages (from requests<3.0.0,>=2.13.0->spacy<3.8.0,>=3.7.0->de-dep-news-trf==3.7.2) (3.3.2)\r\n",
      "Requirement already satisfied: idna<4,>=2.5 in /opt/conda/lib/python3.10/site-packages (from requests<3.0.0,>=2.13.0->spacy<3.8.0,>=3.7.0->de-dep-news-trf==3.7.2) (3.6)\r\n",
      "Requirement already satisfied: urllib3<3,>=1.21.1 in /opt/conda/lib/python3.10/site-packages (from requests<3.0.0,>=2.13.0->spacy<3.8.0,>=3.7.0->de-dep-news-trf==3.7.2) (1.26.18)\r\n",
      "Requirement already satisfied: certifi>=2017.4.17 in /opt/conda/lib/python3.10/site-packages (from requests<3.0.0,>=2.13.0->spacy<3.8.0,>=3.7.0->de-dep-news-trf==3.7.2) (2024.2.2)\r\n",
      "Requirement already satisfied: blis<0.8.0,>=0.7.8 in /opt/conda/lib/python3.10/site-packages (from thinc<8.3.0,>=8.2.2->spacy<3.8.0,>=3.7.0->de-dep-news-trf==3.7.2) (0.7.10)\r\n",
      "Requirement already satisfied: confection<1.0.0,>=0.0.1 in /opt/conda/lib/python3.10/site-packages (from thinc<8.3.0,>=8.2.2->spacy<3.8.0,>=3.7.0->de-dep-news-trf==3.7.2) (0.1.4)\r\n",
      "Requirement already satisfied: filelock in /opt/conda/lib/python3.10/site-packages (from torch>=1.12.0->spacy-curated-transformers<0.3.0,>=0.2.0->de-dep-news-trf==3.7.2) (3.13.1)\r\n",
      "Requirement already satisfied: sympy in /opt/conda/lib/python3.10/site-packages (from torch>=1.12.0->spacy-curated-transformers<0.3.0,>=0.2.0->de-dep-news-trf==3.7.2) (1.12)\r\n",
      "Requirement already satisfied: networkx in /opt/conda/lib/python3.10/site-packages (from torch>=1.12.0->spacy-curated-transformers<0.3.0,>=0.2.0->de-dep-news-trf==3.7.2) (3.2.1)\r\n",
      "Requirement already satisfied: fsspec in /opt/conda/lib/python3.10/site-packages (from torch>=1.12.0->spacy-curated-transformers<0.3.0,>=0.2.0->de-dep-news-trf==3.7.2) (2024.2.0)\r\n",
      "Requirement already satisfied: click<9.0.0,>=7.1.1 in /opt/conda/lib/python3.10/site-packages (from typer<0.10.0,>=0.3.0->spacy<3.8.0,>=3.7.0->de-dep-news-trf==3.7.2) (8.1.7)\r\n",
      "Requirement already satisfied: cloudpathlib<0.17.0,>=0.7.0 in /opt/conda/lib/python3.10/site-packages (from weasel<0.4.0,>=0.1.0->spacy<3.8.0,>=3.7.0->de-dep-news-trf==3.7.2) (0.16.0)\r\n",
      "Requirement already satisfied: MarkupSafe>=2.0 in /opt/conda/lib/python3.10/site-packages (from jinja2->spacy<3.8.0,>=3.7.0->de-dep-news-trf==3.7.2) (2.1.3)\r\n",
      "Requirement already satisfied: mpmath>=0.19 in /opt/conda/lib/python3.10/site-packages (from sympy->torch>=1.12.0->spacy-curated-transformers<0.3.0,>=0.2.0->de-dep-news-trf==3.7.2) (1.3.0)\r\n",
      "Downloading spacy_curated_transformers-0.2.2-py2.py3-none-any.whl (236 kB)\r\n",
      "\u001b[2K   \u001b[90m━━━━━━━━━━━━━━━━━━━━━━━━━━━━━━━━━━━━━━━━\u001b[0m \u001b[32m236.3/236.3 kB\u001b[0m \u001b[31m6.1 MB/s\u001b[0m eta \u001b[36m0:00:00\u001b[0m\r\n",
      "\u001b[?25hDownloading curated_tokenizers-0.0.9-cp310-cp310-manylinux_2_17_x86_64.manylinux2014_x86_64.whl (731 kB)\r\n",
      "\u001b[2K   \u001b[90m━━━━━━━━━━━━━━━━━━━━━━━━━━━━━━━━━━━━━━━━\u001b[0m \u001b[32m731.6/731.6 kB\u001b[0m \u001b[31m29.6 MB/s\u001b[0m eta \u001b[36m0:00:00\u001b[0m\r\n",
      "\u001b[?25hDownloading curated_transformers-0.1.1-py2.py3-none-any.whl (25 kB)\r\n",
      "Installing collected packages: curated-tokenizers, curated-transformers, spacy-curated-transformers, de-dep-news-trf\r\n",
      "Successfully installed curated-tokenizers-0.0.9 curated-transformers-0.1.1 de-dep-news-trf-3.7.2 spacy-curated-transformers-0.2.2\r\n",
      "\u001b[38;5;2m✔ Download and installation successful\u001b[0m\r\n",
      "You can now load the package via spacy.load('de_dep_news_trf')\r\n"
     ]
    }
   ],
   "source": [
    "# !pip install spacypdfreader\n",
    "# !pip install pdf2image\n",
    "# !pip install pytesseract\n",
    "# !python -m spacy download de_dep_news_trf"
   ]
  },
  {
   "cell_type": "code",
   "execution_count": 2,
   "id": "68e3d94b",
   "metadata": {
    "execution": {
     "iopub.execute_input": "2024-04-25T15:24:47.199508Z",
     "iopub.status.busy": "2024-04-25T15:24:47.198786Z",
     "iopub.status.idle": "2024-04-25T15:25:02.692036Z",
     "shell.execute_reply": "2024-04-25T15:25:02.690964Z"
    },
    "executionInfo": {
     "elapsed": 1,
     "status": "ok",
     "timestamp": 1713964644675,
     "user": {
      "displayName": "Jimmy Knox",
      "userId": "00773664586105526662"
     },
     "user_tz": -120
    },
    "id": "AbotKWkQHj0C",
    "papermill": {
     "duration": 15.52213,
     "end_time": "2024-04-25T15:25:02.694564",
     "exception": false,
     "start_time": "2024-04-25T15:24:47.172434",
     "status": "completed"
    },
    "tags": []
   },
   "outputs": [
    {
     "name": "stderr",
     "output_type": "stream",
     "text": [
      "2024-04-25 15:24:53.473297: E external/local_xla/xla/stream_executor/cuda/cuda_dnn.cc:9261] Unable to register cuDNN factory: Attempting to register factory for plugin cuDNN when one has already been registered\n",
      "2024-04-25 15:24:53.473401: E external/local_xla/xla/stream_executor/cuda/cuda_fft.cc:607] Unable to register cuFFT factory: Attempting to register factory for plugin cuFFT when one has already been registered\n",
      "2024-04-25 15:24:53.601478: E external/local_xla/xla/stream_executor/cuda/cuda_blas.cc:1515] Unable to register cuBLAS factory: Attempting to register factory for plugin cuBLAS when one has already been registered\n"
     ]
    }
   ],
   "source": [
    "import matplotlib.pyplot as plt\n",
    "import spacy\n",
    "# needed to get extensions like pdf_file_name\n",
    "# import spacypdfreader\n",
    "from spacy.tokens import Doc, DocBin, Token\n",
    "from spacy.vocab import Vocab\n",
    "import tf_keras as keras\n",
    "from tf_keras.preprocessing.text import Tokenizer\n",
    "import numpy as np\n",
    "from tf_keras.models import Sequential\n",
    "from tf_keras.layers import Dense, LSTM, Embedding\n",
    "from random import randint\n",
    "from pickle import load\n",
    "from tf_keras.models import load_model\n",
    "from tf_keras.preprocessing.sequence import pad_sequences\n",
    "from pickle import dump, load\n",
    "import random"
   ]
  },
  {
   "cell_type": "code",
   "execution_count": 3,
   "id": "917cf93d",
   "metadata": {
    "execution": {
     "iopub.execute_input": "2024-04-25T15:25:02.747559Z",
     "iopub.status.busy": "2024-04-25T15:25:02.746370Z",
     "iopub.status.idle": "2024-04-25T15:26:02.048398Z",
     "shell.execute_reply": "2024-04-25T15:26:02.047545Z"
    },
    "executionInfo": {
     "elapsed": 11650,
     "status": "ok",
     "timestamp": 1713964656324,
     "user": {
      "displayName": "Jimmy Knox",
      "userId": "00773664586105526662"
     },
     "user_tz": -120
    },
    "id": "EOJS4SnZL_D5",
    "papermill": {
     "duration": 59.330602,
     "end_time": "2024-04-25T15:26:02.050748",
     "exception": false,
     "start_time": "2024-04-25T15:25:02.720146",
     "status": "completed"
    },
    "tags": []
   },
   "outputs": [],
   "source": [
    "doc_bin = DocBin().from_disk(\"/kaggle/input/alfa-dp-project/keras/v1/3/databig.spacy\")\n",
    "nlp = spacy.load(\"de_dep_news_trf\")\n",
    "\n",
    "all_docs_sents = [i.sents for i in doc_bin.get_docs(nlp.vocab)]\n",
    "all_sents = [i for j in all_docs_sents for i in j if len(i) >= 35]\n",
    "tokens = [i.text for j in all_sents for i in j if not i.pos_ in [\"X\", \"SPACE\"]]\n"
   ]
  },
  {
   "cell_type": "code",
   "execution_count": 4,
   "id": "4a21e582",
   "metadata": {
    "execution": {
     "iopub.execute_input": "2024-04-25T15:26:02.102304Z",
     "iopub.status.busy": "2024-04-25T15:26:02.101957Z",
     "iopub.status.idle": "2024-04-25T15:26:02.108512Z",
     "shell.execute_reply": "2024-04-25T15:26:02.107676Z"
    },
    "executionInfo": {
     "elapsed": 2,
     "status": "ok",
     "timestamp": 1713964656324,
     "user": {
      "displayName": "Jimmy Knox",
      "userId": "00773664586105526662"
     },
     "user_tz": -120
    },
    "id": "jfYG1VkTHj0C",
    "outputId": "ffe4b32b-0b16-4ad2-edd7-cd0091a475f3",
    "papermill": {
     "duration": 0.034396,
     "end_time": "2024-04-25T15:26:02.110431",
     "exception": false,
     "start_time": "2024-04-25T15:26:02.076035",
     "status": "completed"
    },
    "tags": []
   },
   "outputs": [
    {
     "data": {
      "text/plain": [
       "2867462"
      ]
     },
     "execution_count": 4,
     "metadata": {},
     "output_type": "execute_result"
    }
   ],
   "source": [
    "len(tokens)"
   ]
  },
  {
   "cell_type": "markdown",
   "id": "e49b30da",
   "metadata": {
    "id": "NvQQaYGQHj0D",
    "papermill": {
     "duration": 0.02474,
     "end_time": "2024-04-25T15:26:02.160184",
     "exception": false,
     "start_time": "2024-04-25T15:26:02.135444",
     "status": "completed"
    },
    "tags": []
   },
   "source": [
    "#50 words --> network predict #51\n",
    "\n",
    "Here we will create a text sequence of 50 words, 51th will be the prediction word\n",
    "\n",
    "We will append the seq of 51 words to the dictionary of text_sequences\n",
    "\n",
    "##### Note that 50 words are long enough to capture the context of the sentence\n",
    "\n",
    "it depends upon what document you are looking at, and the sequence will be shorter number of words"
   ]
  },
  {
   "cell_type": "code",
   "execution_count": 5,
   "id": "5c198c26",
   "metadata": {
    "execution": {
     "iopub.execute_input": "2024-04-25T15:26:02.213127Z",
     "iopub.status.busy": "2024-04-25T15:26:02.212447Z",
     "iopub.status.idle": "2024-04-25T15:26:10.421193Z",
     "shell.execute_reply": "2024-04-25T15:26:10.420400Z"
    },
    "executionInfo": {
     "elapsed": 1216,
     "status": "ok",
     "timestamp": 1713964657538,
     "user": {
      "displayName": "Jimmy Knox",
      "userId": "00773664586105526662"
     },
     "user_tz": -120
    },
    "id": "xkSoeJruHj0D",
    "papermill": {
     "duration": 8.237336,
     "end_time": "2024-04-25T15:26:10.423573",
     "exception": false,
     "start_time": "2024-04-25T15:26:02.186237",
     "status": "completed"
    },
    "tags": []
   },
   "outputs": [],
   "source": [
    "train_len = 50 + 1\n",
    "text_sequences = []\n",
    "\n",
    "for i in range(train_len,len(tokens)):\n",
    "    seq = tokens[i-train_len:i]\n",
    "    text_sequences.append(seq)"
   ]
  },
  {
   "cell_type": "markdown",
   "id": "08a150f2",
   "metadata": {
    "id": "o5aPqVf9Hj0D",
    "papermill": {
     "duration": 0.024669,
     "end_time": "2024-04-25T15:26:10.473706",
     "exception": false,
     "start_time": "2024-04-25T15:26:10.449037",
     "status": "completed"
    },
    "tags": []
   },
   "source": [
    "Grabbing the 300th item in the list.\n",
    "The next sequence will start from the word 'stuffed' and will end on one word over."
   ]
  },
  {
   "cell_type": "code",
   "execution_count": 6,
   "id": "a084a084",
   "metadata": {
    "execution": {
     "iopub.execute_input": "2024-04-25T15:26:10.524926Z",
     "iopub.status.busy": "2024-04-25T15:26:10.524575Z",
     "iopub.status.idle": "2024-04-25T15:26:10.530533Z",
     "shell.execute_reply": "2024-04-25T15:26:10.529689Z"
    },
    "executionInfo": {
     "elapsed": 4,
     "status": "ok",
     "timestamp": 1713964657538,
     "user": {
      "displayName": "Jimmy Knox",
      "userId": "00773664586105526662"
     },
     "user_tz": -120
    },
    "id": "p9m6_4LxHj0D",
    "outputId": "4698faeb-0498-4fd7-c8cd-bae8849835e4",
    "papermill": {
     "duration": 0.034048,
     "end_time": "2024-04-25T15:26:10.532539",
     "exception": false,
     "start_time": "2024-04-25T15:26:10.498491",
     "status": "completed"
    },
    "tags": []
   },
   "outputs": [
    {
     "data": {
      "text/plain": [
       "'( duell ) zu leistenden Wochenstunden der Teilzeitbeschäft- gung ins Verhältnis zu setzen zur regelmäßigen wöchentli- hen Arbeitszeit bei Vollzeitbeschäftigung und das allgemei- ne Mindeststundenerfordernis in diesem Verhälinis zu kür- Beispiel 1 Damit besteht für die Beamtin statt der allgemeinen Voraussetzung von 5 Stunden nach $ 17a Satz Nummer 2 EZulV'"
      ]
     },
     "execution_count": 6,
     "metadata": {},
     "output_type": "execute_result"
    }
   ],
   "source": [
    "' '.join(text_sequences[300])"
   ]
  },
  {
   "cell_type": "markdown",
   "id": "32733e07",
   "metadata": {
    "id": "bZOAAG5IHj0E",
    "papermill": {
     "duration": 0.025545,
     "end_time": "2024-04-25T15:26:10.697069",
     "exception": false,
     "start_time": "2024-04-25T15:26:10.671524",
     "status": "completed"
    },
    "tags": []
   },
   "source": [
    "#### using keras tokenization to convert these sequences to a numerical system that keras can understand"
   ]
  },
  {
   "cell_type": "code",
   "execution_count": 8,
   "id": "4a376a51",
   "metadata": {
    "execution": {
     "iopub.execute_input": "2024-04-25T15:26:10.750197Z",
     "iopub.status.busy": "2024-04-25T15:26:10.749325Z",
     "iopub.status.idle": "2024-04-25T15:27:59.981970Z",
     "shell.execute_reply": "2024-04-25T15:27:59.981114Z"
    },
    "executionInfo": {
     "elapsed": 9889,
     "status": "ok",
     "timestamp": 1713964667424,
     "user": {
      "displayName": "Jimmy Knox",
      "userId": "00773664586105526662"
     },
     "user_tz": -120
    },
    "id": "IL85HsvVHj0E",
    "papermill": {
     "duration": 109.261705,
     "end_time": "2024-04-25T15:27:59.984450",
     "exception": false,
     "start_time": "2024-04-25T15:26:10.722745",
     "status": "completed"
    },
    "tags": []
   },
   "outputs": [],
   "source": [
    "tokenizer = Tokenizer()\n",
    "tokenizer.fit_on_texts(text_sequences)"
   ]
  },
  {
   "cell_type": "code",
   "execution_count": 9,
   "id": "50a48457",
   "metadata": {
    "execution": {
     "iopub.execute_input": "2024-04-25T15:28:00.037707Z",
     "iopub.status.busy": "2024-04-25T15:28:00.036881Z",
     "iopub.status.idle": "2024-04-25T15:29:13.764097Z",
     "shell.execute_reply": "2024-04-25T15:29:13.762991Z"
    },
    "executionInfo": {
     "elapsed": 6197,
     "status": "ok",
     "timestamp": 1713964673614,
     "user": {
      "displayName": "Jimmy Knox",
      "userId": "00773664586105526662"
     },
     "user_tz": -120
    },
    "id": "CLLfC6S3Hj0E",
    "papermill": {
     "duration": 73.756104,
     "end_time": "2024-04-25T15:29:13.766480",
     "exception": false,
     "start_time": "2024-04-25T15:28:00.010376",
     "status": "completed"
    },
    "tags": []
   },
   "outputs": [],
   "source": [
    "sequences = tokenizer.texts_to_sequences(text_sequences)"
   ]
  },
  {
   "cell_type": "markdown",
   "id": "f3a72364",
   "metadata": {
    "id": "AEOhk3WsHj0E",
    "papermill": {
     "duration": 0.0251,
     "end_time": "2024-04-25T15:29:13.817727",
     "exception": false,
     "start_time": "2024-04-25T15:29:13.792627",
     "status": "completed"
    },
    "tags": []
   },
   "source": [
    "#### printing the first sequence of list of sequences (25 numbers each) to see how the text is being converted into a numerical format\n",
    "the number shows the index against each word"
   ]
  },
  {
   "cell_type": "code",
   "execution_count": 10,
   "id": "0e734bd0",
   "metadata": {
    "execution": {
     "iopub.execute_input": "2024-04-25T15:29:13.870559Z",
     "iopub.status.busy": "2024-04-25T15:29:13.870178Z",
     "iopub.status.idle": "2024-04-25T15:29:13.873983Z",
     "shell.execute_reply": "2024-04-25T15:29:13.873192Z"
    },
    "executionInfo": {
     "elapsed": 23,
     "status": "ok",
     "timestamp": 1713964673615,
     "user": {
      "displayName": "Jimmy Knox",
      "userId": "00773664586105526662"
     },
     "user_tz": -120
    },
    "id": "RephHo3VHj0E",
    "outputId": "65a73581-bbcb-4ddb-84de-8ac4549f5607",
    "papermill": {
     "duration": 0.031642,
     "end_time": "2024-04-25T15:29:13.875968",
     "exception": false,
     "start_time": "2024-04-25T15:29:13.844326",
     "status": "completed"
    },
    "tags": []
   },
   "outputs": [],
   "source": [
    "#sequences[0]"
   ]
  },
  {
   "cell_type": "markdown",
   "id": "8360d530",
   "metadata": {
    "id": "GUysxNisHj0E",
    "papermill": {
     "duration": 0.024652,
     "end_time": "2024-04-25T15:29:13.925572",
     "exception": false,
     "start_time": "2024-04-25T15:29:13.900920",
     "status": "completed"
    },
    "tags": []
   },
   "source": [
    "We can use the index_word property of the tokenizer to know which word is at which index"
   ]
  },
  {
   "cell_type": "code",
   "execution_count": 11,
   "id": "77ddc83e",
   "metadata": {
    "execution": {
     "iopub.execute_input": "2024-04-25T15:29:13.976945Z",
     "iopub.status.busy": "2024-04-25T15:29:13.976672Z",
     "iopub.status.idle": "2024-04-25T15:29:13.980596Z",
     "shell.execute_reply": "2024-04-25T15:29:13.979714Z"
    },
    "executionInfo": {
     "elapsed": 22,
     "status": "ok",
     "timestamp": 1713964673615,
     "user": {
      "displayName": "Jimmy Knox",
      "userId": "00773664586105526662"
     },
     "user_tz": -120
    },
    "id": "lPIWKCaMHj0E",
    "outputId": "abd29106-0796-44a5-8825-181a94e3e860",
    "papermill": {
     "duration": 0.031748,
     "end_time": "2024-04-25T15:29:13.982396",
     "exception": false,
     "start_time": "2024-04-25T15:29:13.950648",
     "status": "completed"
    },
    "tags": []
   },
   "outputs": [],
   "source": [
    "#tokenizer.index_word"
   ]
  },
  {
   "cell_type": "markdown",
   "id": "a711cc39",
   "metadata": {
    "id": "Osq7PYLJHj0F",
    "papermill": {
     "duration": 0.025078,
     "end_time": "2024-04-25T15:29:14.074000",
     "exception": false,
     "start_time": "2024-04-25T15:29:14.048922",
     "status": "completed"
    },
    "tags": []
   },
   "source": [
    "To know how many words appeared how many times, we can use the word_counts property of the tokenizer."
   ]
  },
  {
   "cell_type": "code",
   "execution_count": 12,
   "id": "f1282bf8",
   "metadata": {
    "execution": {
     "iopub.execute_input": "2024-04-25T15:29:14.125633Z",
     "iopub.status.busy": "2024-04-25T15:29:14.125292Z",
     "iopub.status.idle": "2024-04-25T15:29:14.129382Z",
     "shell.execute_reply": "2024-04-25T15:29:14.128477Z"
    },
    "executionInfo": {
     "elapsed": 19,
     "status": "ok",
     "timestamp": 1713964673615,
     "user": {
      "displayName": "Jimmy Knox",
      "userId": "00773664586105526662"
     },
     "user_tz": -120
    },
    "id": "Chl_aTLGHj0F",
    "outputId": "d770c00f-313b-45d7-a2fd-edf6a2c88f1c",
    "papermill": {
     "duration": 0.032187,
     "end_time": "2024-04-25T15:29:14.131374",
     "exception": false,
     "start_time": "2024-04-25T15:29:14.099187",
     "status": "completed"
    },
    "tags": []
   },
   "outputs": [],
   "source": [
    "#tokenizer.word_counts"
   ]
  },
  {
   "cell_type": "markdown",
   "id": "ef7fc021",
   "metadata": {
    "id": "DvdXf8L9Hj0F",
    "papermill": {
     "duration": 0.024871,
     "end_time": "2024-04-25T15:29:14.181410",
     "exception": false,
     "start_time": "2024-04-25T15:29:14.156539",
     "status": "completed"
    },
    "tags": []
   },
   "source": [
    "Getting the size of our vocabulary, to get the unique words across the whole document"
   ]
  },
  {
   "cell_type": "code",
   "execution_count": 13,
   "id": "dc8d6f51",
   "metadata": {
    "execution": {
     "iopub.execute_input": "2024-04-25T15:29:14.232597Z",
     "iopub.status.busy": "2024-04-25T15:29:14.232320Z",
     "iopub.status.idle": "2024-04-25T15:29:14.238073Z",
     "shell.execute_reply": "2024-04-25T15:29:14.237136Z"
    },
    "executionInfo": {
     "elapsed": 11,
     "status": "ok",
     "timestamp": 1713964673615,
     "user": {
      "displayName": "Jimmy Knox",
      "userId": "00773664586105526662"
     },
     "user_tz": -120
    },
    "id": "1MMvn9svHj0F",
    "papermill": {
     "duration": 0.033524,
     "end_time": "2024-04-25T15:29:14.239973",
     "exception": false,
     "start_time": "2024-04-25T15:29:14.206449",
     "status": "completed"
    },
    "tags": []
   },
   "outputs": [
    {
     "data": {
      "text/plain": [
       "187296"
      ]
     },
     "execution_count": 13,
     "metadata": {},
     "output_type": "execute_result"
    }
   ],
   "source": [
    "vocabulary_size = len(tokenizer.word_counts)\n",
    "vocabulary_size"
   ]
  },
  {
   "cell_type": "markdown",
   "id": "d3c414e8",
   "metadata": {
    "id": "A_GdjOoyHj0F",
    "papermill": {
     "duration": 0.025086,
     "end_time": "2024-04-25T15:29:14.290562",
     "exception": false,
     "start_time": "2024-04-25T15:29:14.265476",
     "status": "completed"
    },
    "tags": []
   },
   "source": [
    "Since the Sequence is a list, we need to convert it into a format which is understood by the model.\n",
    "\n",
    "For that we are going to use the numpy library, to convert this into array\n",
    "where each row in the array represents a single line in the text, with lenght of 26"
   ]
  },
  {
   "cell_type": "code",
   "execution_count": 14,
   "id": "8b0973e6",
   "metadata": {
    "execution": {
     "iopub.execute_input": "2024-04-25T15:29:14.341887Z",
     "iopub.status.busy": "2024-04-25T15:29:14.341603Z",
     "iopub.status.idle": "2024-04-25T15:29:28.647257Z",
     "shell.execute_reply": "2024-04-25T15:29:28.646315Z"
    },
    "executionInfo": {
     "elapsed": 864,
     "status": "ok",
     "timestamp": 1713964674477,
     "user": {
      "displayName": "Jimmy Knox",
      "userId": "00773664586105526662"
     },
     "user_tz": -120
    },
    "id": "vOdbDq8xHj0F",
    "outputId": "355f8346-0e3c-4859-e825-becca10938a9",
    "papermill": {
     "duration": 14.333462,
     "end_time": "2024-04-25T15:29:28.649175",
     "exception": false,
     "start_time": "2024-04-25T15:29:14.315713",
     "status": "completed"
    },
    "tags": []
   },
   "outputs": [
    {
     "data": {
      "text/plain": [
       "array([[1027,  898,    8, ...,  569,   21,    8],\n",
       "       [ 898,    8,  570, ...,   21,    8, 1104],\n",
       "       [   8,  570,  541, ...,    8, 1104,   10],\n",
       "       ...,\n",
       "       [  38,  810,  192, ...,    1,   13,  902],\n",
       "       [ 810,  192,   14, ...,   13,  902,  311],\n",
       "       [ 192,   14,  783, ...,  902,  311,  580]])"
      ]
     },
     "execution_count": 14,
     "metadata": {},
     "output_type": "execute_result"
    }
   ],
   "source": [
    "sequences = np.array(sequences)\n",
    "sequences"
   ]
  },
  {
   "cell_type": "markdown",
   "id": "3fb7c1ac",
   "metadata": {
    "id": "097phwQvHj0F",
    "papermill": {
     "duration": 0.025418,
     "end_time": "2024-04-25T15:29:28.701011",
     "exception": false,
     "start_time": "2024-04-25T15:29:28.675593",
     "status": "completed"
    },
    "tags": []
   },
   "source": [
    "### Create the LSTM Based Model\n",
    "##### Split the Data into Featureas and Labels\n",
    "##### X will be the first n words of sequence\n",
    "##### y will be the next word after the sequence\n",
    "##### Fit the model"
   ]
  },
  {
   "cell_type": "code",
   "execution_count": 15,
   "id": "febaaf22",
   "metadata": {
    "execution": {
     "iopub.execute_input": "2024-04-25T15:29:28.753580Z",
     "iopub.status.busy": "2024-04-25T15:29:28.752949Z",
     "iopub.status.idle": "2024-04-25T15:29:28.757045Z",
     "shell.execute_reply": "2024-04-25T15:29:28.756264Z"
    },
    "executionInfo": {
     "elapsed": 4,
     "status": "ok",
     "timestamp": 1713964674477,
     "user": {
      "displayName": "Jimmy Knox",
      "userId": "00773664586105526662"
     },
     "user_tz": -120
    },
    "id": "8kEuWAYBHj0F",
    "papermill": {
     "duration": 0.032541,
     "end_time": "2024-04-25T15:29:28.758919",
     "exception": false,
     "start_time": "2024-04-25T15:29:28.726378",
     "status": "completed"
    },
    "tags": []
   },
   "outputs": [],
   "source": [
    "X = sequences[:,:-1]"
   ]
  },
  {
   "cell_type": "code",
   "execution_count": 16,
   "id": "f3c448b7",
   "metadata": {
    "execution": {
     "iopub.execute_input": "2024-04-25T15:29:28.811194Z",
     "iopub.status.busy": "2024-04-25T15:29:28.810931Z",
     "iopub.status.idle": "2024-04-25T15:29:28.814889Z",
     "shell.execute_reply": "2024-04-25T15:29:28.814029Z"
    },
    "executionInfo": {
     "elapsed": 3,
     "status": "ok",
     "timestamp": 1713964674477,
     "user": {
      "displayName": "Jimmy Knox",
      "userId": "00773664586105526662"
     },
     "user_tz": -120
    },
    "id": "ObvN6tLZHj0G",
    "papermill": {
     "duration": 0.032139,
     "end_time": "2024-04-25T15:29:28.816701",
     "exception": false,
     "start_time": "2024-04-25T15:29:28.784562",
     "status": "completed"
    },
    "tags": []
   },
   "outputs": [],
   "source": [
    "y = sequences[:,-1]"
   ]
  },
  {
   "cell_type": "code",
   "execution_count": 17,
   "id": "6973ff80",
   "metadata": {
    "execution": {
     "iopub.execute_input": "2024-04-25T15:29:28.920744Z",
     "iopub.status.busy": "2024-04-25T15:29:28.920486Z",
     "iopub.status.idle": "2024-04-25T15:29:28.925730Z",
     "shell.execute_reply": "2024-04-25T15:29:28.924959Z"
    },
    "executionInfo": {
     "elapsed": 3,
     "status": "ok",
     "timestamp": 1713964674477,
     "user": {
      "displayName": "Jimmy Knox",
      "userId": "00773664586105526662"
     },
     "user_tz": -120
    },
    "id": "Xu3r_bMyHj0G",
    "outputId": "bec5a361-524d-4dbe-d1a6-c2c52231bbea",
    "papermill": {
     "duration": 0.033547,
     "end_time": "2024-04-25T15:29:28.927675",
     "exception": false,
     "start_time": "2024-04-25T15:29:28.894128",
     "status": "completed"
    },
    "tags": []
   },
   "outputs": [
    {
     "data": {
      "text/plain": [
       "(2867411,)"
      ]
     },
     "execution_count": 17,
     "metadata": {},
     "output_type": "execute_result"
    }
   ],
   "source": [
    "y.shape"
   ]
  },
  {
   "cell_type": "code",
   "execution_count": 18,
   "id": "82f3fc2d",
   "metadata": {
    "execution": {
     "iopub.execute_input": "2024-04-25T15:29:28.980719Z",
     "iopub.status.busy": "2024-04-25T15:29:28.980242Z",
     "iopub.status.idle": "2024-04-25T15:29:28.983939Z",
     "shell.execute_reply": "2024-04-25T15:29:28.983120Z"
    },
    "executionInfo": {
     "elapsed": 2,
     "status": "ok",
     "timestamp": 1713964674477,
     "user": {
      "displayName": "Jimmy Knox",
      "userId": "00773664586105526662"
     },
     "user_tz": -120
    },
    "id": "xEJ9WvPoHj0G",
    "papermill": {
     "duration": 0.032201,
     "end_time": "2024-04-25T15:29:28.985816",
     "exception": false,
     "start_time": "2024-04-25T15:29:28.953615",
     "status": "completed"
    },
    "tags": []
   },
   "outputs": [],
   "source": [
    "seq_len = X.shape[1] #setting the seq_len to 50"
   ]
  },
  {
   "cell_type": "code",
   "execution_count": 19,
   "id": "6f861d01",
   "metadata": {
    "execution": {
     "iopub.execute_input": "2024-04-25T15:29:29.038619Z",
     "iopub.status.busy": "2024-04-25T15:29:29.038119Z",
     "iopub.status.idle": "2024-04-25T15:29:29.043556Z",
     "shell.execute_reply": "2024-04-25T15:29:29.042719Z"
    },
    "executionInfo": {
     "elapsed": 2,
     "status": "ok",
     "timestamp": 1713964674477,
     "user": {
      "displayName": "Jimmy Knox",
      "userId": "00773664586105526662"
     },
     "user_tz": -120
    },
    "id": "Saw0QjzbHj0G",
    "outputId": "8d26ee7e-c937-4c10-ec0b-57fa5778e51c",
    "papermill": {
     "duration": 0.033764,
     "end_time": "2024-04-25T15:29:29.045374",
     "exception": false,
     "start_time": "2024-04-25T15:29:29.011610",
     "status": "completed"
    },
    "tags": []
   },
   "outputs": [
    {
     "data": {
      "text/plain": [
       "(2867411, 50)"
      ]
     },
     "execution_count": 19,
     "metadata": {},
     "output_type": "execute_result"
    }
   ],
   "source": [
    "X.shape #94047 sequences, each containing 50 words"
   ]
  },
  {
   "cell_type": "markdown",
   "id": "3c99a6ca",
   "metadata": {
    "id": "Etw8aXF4Hj0G",
    "papermill": {
     "duration": 0.025867,
     "end_time": "2024-04-25T15:29:29.097621",
     "exception": false,
     "start_time": "2024-04-25T15:29:29.071754",
     "status": "completed"
    },
    "tags": []
   },
   "source": [
    "### Training the model\n",
    "LSTM layer to deal with the sequences, and Embedding layer to deal with the vocabulary\n",
    "##### Note: that when defining the LSTM, the provided number of neurons = seq_len*11 that will be 275, but you can define your own number if you want to, there's no possible description of how many neurons should go into it, but it should be some sort of multiple of the seq_length"
   ]
  },
  {
   "cell_type": "code",
   "execution_count": 20,
   "id": "84fe14a5",
   "metadata": {
    "execution": {
     "iopub.execute_input": "2024-04-25T15:29:29.151362Z",
     "iopub.status.busy": "2024-04-25T15:29:29.150987Z",
     "iopub.status.idle": "2024-04-25T15:29:29.157213Z",
     "shell.execute_reply": "2024-04-25T15:29:29.156464Z"
    },
    "executionInfo": {
     "elapsed": 2,
     "status": "ok",
     "timestamp": 1713964674477,
     "user": {
      "displayName": "Jimmy Knox",
      "userId": "00773664586105526662"
     },
     "user_tz": -120
    },
    "id": "fdSSVg5_Hj0G",
    "papermill": {
     "duration": 0.035439,
     "end_time": "2024-04-25T15:29:29.159103",
     "exception": false,
     "start_time": "2024-04-25T15:29:29.123664",
     "status": "completed"
    },
    "tags": []
   },
   "outputs": [],
   "source": [
    "def create_model(vocabulary_size, seq_len):\n",
    "    model = Sequential()\n",
    "    model.add(Embedding(vocabulary_size,seq_len,input_length=seq_len))\n",
    "    model.add(LSTM(seq_len*2, return_sequences = True))\n",
    "    model.add(LSTM(seq_len*2))\n",
    "    model.add(Dense(100,activation='relu'))\n",
    "    model.add(Dense(vocabulary_size,activation='softmax'))\n",
    "    model.compile(loss='sparse_categorical_crossentropy',optimizer='adam',metrics=['accuracy'])\n",
    "    model.summary()\n",
    "    return model"
   ]
  },
  {
   "cell_type": "code",
   "execution_count": 21,
   "id": "fb991440",
   "metadata": {
    "execution": {
     "iopub.execute_input": "2024-04-25T15:29:29.214494Z",
     "iopub.status.busy": "2024-04-25T15:29:29.213839Z",
     "iopub.status.idle": "2024-04-25T15:29:30.734542Z",
     "shell.execute_reply": "2024-04-25T15:29:30.733625Z"
    },
    "executionInfo": {
     "elapsed": 928,
     "status": "ok",
     "timestamp": 1713964675404,
     "user": {
      "displayName": "Jimmy Knox",
      "userId": "00773664586105526662"
     },
     "user_tz": -120
    },
    "id": "1sNzAr_AHj0G",
    "outputId": "ac408c2a-2e1d-406f-89d2-18a953b72baa",
    "papermill": {
     "duration": 1.552878,
     "end_time": "2024-04-25T15:29:30.738954",
     "exception": false,
     "start_time": "2024-04-25T15:29:29.186076",
     "status": "completed"
    },
    "tags": []
   },
   "outputs": [
    {
     "name": "stdout",
     "output_type": "stream",
     "text": [
      "Model: \"sequential\"\n",
      "_________________________________________________________________\n",
      " Layer (type)                Output Shape              Param #   \n",
      "=================================================================\n",
      " embedding (Embedding)       (None, 50, 50)            9364850   \n",
      "                                                                 \n",
      " lstm (LSTM)                 (None, 50, 100)           60400     \n",
      "                                                                 \n",
      " lstm_1 (LSTM)               (None, 100)               80400     \n",
      "                                                                 \n",
      " dense (Dense)               (None, 100)               10100     \n",
      "                                                                 \n",
      " dense_1 (Dense)             (None, 187297)            18916997  \n",
      "                                                                 \n",
      "=================================================================\n",
      "Total params: 28432747 (108.46 MB)\n",
      "Trainable params: 28432747 (108.46 MB)\n",
      "Non-trainable params: 0 (0.00 Byte)\n",
      "_________________________________________________________________\n"
     ]
    }
   ],
   "source": [
    "model = create_model(vocabulary_size+1,seq_len)"
   ]
  },
  {
   "cell_type": "code",
   "execution_count": 22,
   "id": "1862eb54",
   "metadata": {
    "execution": {
     "iopub.execute_input": "2024-04-25T15:29:30.808324Z",
     "iopub.status.busy": "2024-04-25T15:29:30.807892Z",
     "iopub.status.idle": "2024-04-25T15:29:30.812836Z",
     "shell.execute_reply": "2024-04-25T15:29:30.811961Z"
    },
    "papermill": {
     "duration": 0.044597,
     "end_time": "2024-04-25T15:29:30.815172",
     "exception": false,
     "start_time": "2024-04-25T15:29:30.770575",
     "status": "completed"
    },
    "tags": []
   },
   "outputs": [],
   "source": [
    "checkpoint_filepath = '/kaggle/working/alfa_dl_model{epoch:02d}.keras'\n",
    "model_checkpoint_callback = keras.callbacks.ModelCheckpoint(\n",
    "    filepath=checkpoint_filepath,\n",
    "    save_freq=\"epoch\",)"
   ]
  },
  {
   "cell_type": "code",
   "execution_count": 23,
   "id": "11e41e6c",
   "metadata": {
    "execution": {
     "iopub.execute_input": "2024-04-25T15:29:30.875259Z",
     "iopub.status.busy": "2024-04-25T15:29:30.874937Z",
     "iopub.status.idle": "2024-04-25T19:08:34.231804Z",
     "shell.execute_reply": "2024-04-25T19:08:34.230839Z"
    },
    "executionInfo": {
     "elapsed": 156930,
     "status": "error",
     "timestamp": 1713964833592,
     "user": {
      "displayName": "Jimmy Knox",
      "userId": "00773664586105526662"
     },
     "user_tz": -120
    },
    "id": "9JwfzHhwHj0H",
    "outputId": "4fbd8d05-69e3-4ee5-b4cc-1b2435a96787",
    "papermill": {
     "duration": 13143.387798,
     "end_time": "2024-04-25T19:08:34.234094",
     "exception": false,
     "start_time": "2024-04-25T15:29:30.846296",
     "status": "completed"
    },
    "tags": []
   },
   "outputs": [
    {
     "name": "stdout",
     "output_type": "stream",
     "text": [
      "Epoch 1/10\n"
     ]
    },
    {
     "name": "stderr",
     "output_type": "stream",
     "text": [
      "WARNING: All log messages before absl::InitializeLog() is called are written to STDERR\n",
      "I0000 00:00:1714058999.943343      99 device_compiler.h:186] Compiled cluster using XLA!  This line is logged at most once for the lifetime of the process.\n"
     ]
    },
    {
     "name": "stdout",
     "output_type": "stream",
     "text": [
      "2868/2868 [==============================] - 1406s 481ms/step - loss: 7.2738 - accuracy: 0.0842\n",
      "Epoch 2/10\n",
      "2868/2868 [==============================] - 1312s 457ms/step - loss: 6.2100 - accuracy: 0.1509\n",
      "Epoch 3/10\n",
      "2868/2868 [==============================] - 1304s 455ms/step - loss: 5.6086 - accuracy: 0.1908\n",
      "Epoch 4/10\n",
      "2868/2868 [==============================] - 1302s 454ms/step - loss: 5.1585 - accuracy: 0.2206\n",
      "Epoch 5/10\n",
      "2868/2868 [==============================] - 1302s 454ms/step - loss: 4.7923 - accuracy: 0.2438\n",
      "Epoch 6/10\n",
      "2868/2868 [==============================] - 1302s 454ms/step - loss: 4.4917 - accuracy: 0.2634\n",
      "Epoch 7/10\n",
      "2868/2868 [==============================] - 1303s 454ms/step - loss: 4.2405 - accuracy: 0.2809\n",
      "Epoch 8/10\n",
      "2868/2868 [==============================] - 1302s 454ms/step - loss: 4.0343 - accuracy: 0.2968\n",
      "Epoch 9/10\n",
      "2868/2868 [==============================] - 1303s 454ms/step - loss: 3.8478 - accuracy: 0.3134\n",
      "Epoch 10/10\n",
      "2868/2868 [==============================] - 1303s 454ms/step - loss: 3.6910 - accuracy: 0.3302\n"
     ]
    },
    {
     "data": {
      "text/plain": [
       "<tf_keras.src.callbacks.History at 0x7ee23fca5990>"
      ]
     },
     "execution_count": 23,
     "metadata": {},
     "output_type": "execute_result"
    }
   ],
   "source": [
    "#batch size is how many sequences you want to pass in, obviously you can't pass all the sequences at a time\n",
    "#epochs is how many times you want to train, to get something reasonable, it must be more than 200, and it will take time too for training\n",
    "#verbose is the output port\n",
    "model.fit(X,y,batch_size=1000, epochs=10, verbose=1, callbacks=[model_checkpoint_callback])"
   ]
  },
  {
   "cell_type": "code",
   "execution_count": 24,
   "id": "57518e2c",
   "metadata": {
    "execution": {
     "iopub.execute_input": "2024-04-25T19:08:39.009811Z",
     "iopub.status.busy": "2024-04-25T19:08:39.009041Z",
     "iopub.status.idle": "2024-04-25T19:08:40.330199Z",
     "shell.execute_reply": "2024-04-25T19:08:40.329212Z"
    },
    "executionInfo": {
     "elapsed": 3,
     "status": "aborted",
     "timestamp": 1713964833593,
     "user": {
      "displayName": "Jimmy Knox",
      "userId": "00773664586105526662"
     },
     "user_tz": -120
    },
    "id": "RmobVavBHj0J",
    "papermill": {
     "duration": 3.634955,
     "end_time": "2024-04-25T19:08:40.332652",
     "exception": false,
     "start_time": "2024-04-25T19:08:36.697697",
     "status": "completed"
    },
    "tags": []
   },
   "outputs": [],
   "source": [
    "model.save('/kaggle/working/deep_learning_model200.keras')"
   ]
  },
  {
   "cell_type": "code",
   "execution_count": 25,
   "id": "0f9691bd",
   "metadata": {
    "execution": {
     "iopub.execute_input": "2024-04-25T19:08:45.227710Z",
     "iopub.status.busy": "2024-04-25T19:08:45.227314Z",
     "iopub.status.idle": "2024-04-25T19:08:45.459097Z",
     "shell.execute_reply": "2024-04-25T19:08:45.458244Z"
    },
    "executionInfo": {
     "elapsed": 3,
     "status": "aborted",
     "timestamp": 1713964833593,
     "user": {
      "displayName": "Jimmy Knox",
      "userId": "00773664586105526662"
     },
     "user_tz": -120
    },
    "id": "xwh0dxNFHj0J",
    "papermill": {
     "duration": 2.657785,
     "end_time": "2024-04-25T19:08:45.461398",
     "exception": false,
     "start_time": "2024-04-25T19:08:42.803613",
     "status": "completed"
    },
    "tags": []
   },
   "outputs": [],
   "source": [
    "dump(tokenizer,open('/kaggle/working/demo_tokenizer','wb'))"
   ]
  },
  {
   "cell_type": "code",
   "execution_count": 26,
   "id": "a768dbfb",
   "metadata": {
    "execution": {
     "iopub.execute_input": "2024-04-25T19:08:50.190837Z",
     "iopub.status.busy": "2024-04-25T19:08:50.190002Z",
     "iopub.status.idle": "2024-04-25T19:08:50.453138Z",
     "shell.execute_reply": "2024-04-25T19:08:50.452179Z"
    },
    "papermill": {
     "duration": 2.571566,
     "end_time": "2024-04-25T19:08:50.455068",
     "exception": false,
     "start_time": "2024-04-25T19:08:47.883502",
     "status": "completed"
    },
    "tags": []
   },
   "outputs": [
    {
     "data": {
      "image/png": "[encoded data removed]",
      "text/plain": [
       "<Figure size 640x480 with 1 Axes>"
      ]
     },
     "metadata": {},
     "output_type": "display_data"
    }
   ],
   "source": [
    "history = model.history\n",
    "plt.plot(history.history['loss'],\n",
    "         'b-', label='loss')\n",
    "plt.plot(history.history['accuracy'],\n",
    "         'b--', label='accuracy')\n",
    "\n",
    "plt.legend()\n",
    "plt.show()"
   ]
  },
  {
   "cell_type": "markdown",
   "id": "fd88a44a",
   "metadata": {
    "id": "xf9NRm7WHj0J",
    "papermill": {
     "duration": 2.426609,
     "end_time": "2024-04-25T19:08:55.308595",
     "exception": false,
     "start_time": "2024-04-25T19:08:52.881986",
     "status": "completed"
    },
    "tags": []
   },
   "source": [
    "### Generating new Text based on Seed Input"
   ]
  },
  {
   "cell_type": "code",
   "execution_count": 27,
   "id": "2682fc77",
   "metadata": {
    "execution": {
     "iopub.execute_input": "2024-04-25T19:09:00.063037Z",
     "iopub.status.busy": "2024-04-25T19:09:00.062678Z",
     "iopub.status.idle": "2024-04-25T19:09:00.071186Z",
     "shell.execute_reply": "2024-04-25T19:09:00.070304Z"
    },
    "executionInfo": {
     "elapsed": 3,
     "status": "aborted",
     "timestamp": 1713964833593,
     "user": {
      "displayName": "Jimmy Knox",
      "userId": "00773664586105526662"
     },
     "user_tz": -120
    },
    "id": "ReHyhkj2Hj0J",
    "papermill": {
     "duration": 2.343917,
     "end_time": "2024-04-25T19:09:00.073297",
     "exception": false,
     "start_time": "2024-04-25T19:08:57.729380",
     "status": "completed"
    },
    "tags": []
   },
   "outputs": [],
   "source": [
    "def generate_text(model, tokenizer, seq_len, seed_text, num_gen_words):\n",
    "    '''\n",
    "    INPUTS:\n",
    "    model : model that was trained on text data\n",
    "    tokenizer : tokenizer that was fit on text data\n",
    "    seq_len : length of training sequence\n",
    "    seed_text : raw string text to serve as the seed\n",
    "    num_gen_words : number of words to be generated by model\n",
    "    '''\n",
    "\n",
    "    # Final Output\n",
    "    output_text = []\n",
    "\n",
    "    # Intial Seed Sequence\n",
    "    input_text = seed_text\n",
    "\n",
    "    # Create num_gen_words\n",
    "    for i in range(num_gen_words):\n",
    "\n",
    "        # Take the input text string and encode it to a sequence\n",
    "        encoded_text = tokenizer.texts_to_sequences([input_text])[0]\n",
    "\n",
    "        # Pad sequences to our trained rate (50 words in the video)\n",
    "        pad_encoded = pad_sequences([encoded_text], maxlen=seq_len, truncating='pre')\n",
    "\n",
    "        # Predict Class Probabilities for each word\n",
    "        pred_word_ind = model.predict(pad_encoded, verbose=0)[0]\n",
    "\n",
    "        # Grab word\n",
    "        pred_word = tokenizer.index_word[np.argmax(pred_word_ind)]\n",
    "\n",
    "        # Update the sequence of input text (shifting one over with the new word)\n",
    "        input_text += ' ' + pred_word\n",
    "\n",
    "        output_text.append(pred_word)\n",
    "        if num_gen_words == 1:\n",
    "            best_3_w = np.argsort(pred_word_ind)[-1:-4:-1]\n",
    "            return best_3_w, pred_word_ind[best_3_w], pred_word_ind\n",
    "\n",
    "\n",
    "    # Make it look like a sentence.\n",
    "    return ' '.join(output_text)"
   ]
  },
  {
   "cell_type": "code",
   "execution_count": 28,
   "id": "3c78aa4f",
   "metadata": {
    "execution": {
     "iopub.execute_input": "2024-04-25T19:09:04.922049Z",
     "iopub.status.busy": "2024-04-25T19:09:04.921694Z",
     "iopub.status.idle": "2024-04-25T19:09:04.934041Z",
     "shell.execute_reply": "2024-04-25T19:09:04.933035Z"
    },
    "papermill": {
     "duration": 2.436864,
     "end_time": "2024-04-25T19:09:04.936497",
     "exception": false,
     "start_time": "2024-04-25T19:09:02.499633",
     "status": "completed"
    },
    "tags": []
   },
   "outputs": [],
   "source": [
    "def generate_text_2(model, tokenizer, seq_len, seed_text, num_gen_words):\n",
    "    '''\n",
    "    INPUTS:\n",
    "    model : model that was trained on text data\n",
    "    tokenizer : tokenizer that was fit on text data\n",
    "    seq_len : length of training sequence\n",
    "    seed_text : raw string text to serve as the seed\n",
    "    num_gen_words : number of words to be generated by model\n",
    "    '''\n",
    "    \n",
    "    # Final Output\n",
    "    output_text = []\n",
    "\n",
    "    # Intial Seed Sequence\n",
    "    input_text = seed_text\n",
    "    \n",
    "    # Little Beam-search-like\n",
    "    beam_search = []\n",
    "    \n",
    "    # Create num_gen_words\n",
    "    for i in range(num_gen_words):\n",
    "\n",
    "        # Take the input text string and encode it to a sequence\n",
    "        encoded_text = tokenizer.texts_to_sequences([input_text])[0]\n",
    "\n",
    "        # Pad sequences to our trained rate (50 words in the video)\n",
    "        pad_encoded = pad_sequences([encoded_text], maxlen=seq_len, truncating='pre')\n",
    "\n",
    "        # Predict Class Probabilities for each word\n",
    "        pred_word_ind = model.predict(pad_encoded, verbose=0)[0]\n",
    "        \n",
    "        # Testing out grab best 3 words\n",
    "        \n",
    "        best_3_w = np.argsort(pred_word_ind)[-1:-4:-1]\n",
    "        beam_search.append(best_3_w)\n",
    "        tokens_array = []\n",
    "        tokens_prob_array = []\n",
    "        for i in best_3_w:\n",
    "            # Grab word\n",
    "            pred_word = tokenizer.index_word[i]\n",
    "            \n",
    "            # Update the sequence of input text (shifting one over with the new word)\n",
    "            try_text = input_text + ' ' + pred_word\n",
    "            tokens, token_prop, _ = generate_text(model=model, tokenizer=tokenizer, seq_len=seq_len, seed_text=try_text, num_gen_words=1)\n",
    "            tokens_array.append(tokens)\n",
    "            tokens_prob_array.append(token_prop * pred_word_ind[i])\n",
    "        id_token = np.argmax(np.array(tokens_prob_array).reshape(9,))\n",
    "        ind_1st_word = id_token.__floordiv__(3)\n",
    "\n",
    "        ind_2nd_word = id_token - (3 * ind_1st_word)\n",
    "        counter = 0\n",
    "        while best_3_w[ind_1st_word] == tokens_array[ind_1st_word][ind_2nd_word]:\n",
    "            ind_1st_word = np.random.randint(0,3)\n",
    "            counter += 1\n",
    "            if counter > 4:\n",
    "                ind_2nd_word = np.random.randint(0,3)\n",
    "        first_word = tokenizer.index_word[best_3_w[ind_1st_word]]\n",
    "        second_word = tokenizer.index_word[tokens_array[ind_1st_word][ind_2nd_word]]\n",
    "        \n",
    "        input_text += ' ' + first_word #+ \" \" + second_word\n",
    "\n",
    "        output_text.append(first_word)\n",
    "        # output_text.append(second_word)\n",
    "\n",
    "    # Make it look like a sentence.\n",
    "    return ' '.join(output_text)"
   ]
  },
  {
   "cell_type": "code",
   "execution_count": 29,
   "id": "685ce101",
   "metadata": {
    "execution": {
     "iopub.execute_input": "2024-04-25T19:09:09.685637Z",
     "iopub.status.busy": "2024-04-25T19:09:09.685236Z",
     "iopub.status.idle": "2024-04-25T19:09:09.691862Z",
     "shell.execute_reply": "2024-04-25T19:09:09.691036Z"
    },
    "executionInfo": {
     "elapsed": 3,
     "status": "aborted",
     "timestamp": 1713964833593,
     "user": {
      "displayName": "Jimmy Knox",
      "userId": "00773664586105526662"
     },
     "user_tz": -120
    },
    "id": "NJupV9kWHj0K",
    "papermill": {
     "duration": 2.418185,
     "end_time": "2024-04-25T19:09:09.693736",
     "exception": false,
     "start_time": "2024-04-25T19:09:07.275551",
     "status": "completed"
    },
    "tags": []
   },
   "outputs": [
    {
     "data": {
      "text/plain": [
       "\"gruppe in einem sachlichen Zusammenhang ste- hen oder = durch die Kenntnisse , Erfahrungen und Fertig- keiten gewonnen worden sind , welche für di weitere dienstliche Verwendung von Nutzen oder Interesse sind , ' : Da förderliche Zeiten der angestrebten Verwendung im öffentlichen Dienst nicht gleichwertig sind ( gleichwertige Zeiten sind\""
      ]
     },
     "execution_count": 29,
     "metadata": {},
     "output_type": "execute_result"
    }
   ],
   "source": [
    "\n",
    "#random.seed(112)\n",
    "ramdom_pick = random.randint(0,len(text_sequences))\n",
    "random_seed_text = text_sequences[ramdom_pick]\n",
    "seed_text = ' '.join(random_seed_text)\n",
    "seed_text"
   ]
  },
  {
   "cell_type": "code",
   "execution_count": 30,
   "id": "67132317",
   "metadata": {
    "execution": {
     "iopub.execute_input": "2024-04-25T19:09:14.799097Z",
     "iopub.status.busy": "2024-04-25T19:09:14.798726Z",
     "iopub.status.idle": "2024-04-25T19:09:30.739384Z",
     "shell.execute_reply": "2024-04-25T19:09:30.738294Z"
    },
    "executionInfo": {
     "elapsed": 3,
     "status": "aborted",
     "timestamp": 1713964833593,
     "user": {
      "displayName": "Jimmy Knox",
      "userId": "00773664586105526662"
     },
     "user_tz": -120
    },
    "id": "jYMXeagYHj0K",
    "papermill": {
     "duration": 18.474197,
     "end_time": "2024-04-25T19:09:30.741695",
     "exception": false,
     "start_time": "2024-04-25T19:09:12.267498",
     "status": "completed"
    },
    "tags": []
   },
   "outputs": [
    {
     "data": {
      "text/plain": [
       "'auch in den fällen des bundes oder des bundes zu erfassen . ( ( ( . ( . ( . . . . ( ( ( ( ( . ( ( . . ( ( . . . ( ( ( ( . . ( . . . . ('"
      ]
     },
     "execution_count": 30,
     "metadata": {},
     "output_type": "execute_result"
    }
   ],
   "source": [
    "generate_text_2(model,tokenizer,seq_len,seed_text=seed_text,num_gen_words=50)"
   ]
  },
  {
   "cell_type": "code",
   "execution_count": 31,
   "id": "58f1d2f3",
   "metadata": {
    "execution": {
     "iopub.execute_input": "2024-04-25T19:09:35.471562Z",
     "iopub.status.busy": "2024-04-25T19:09:35.471198Z",
     "iopub.status.idle": "2024-04-25T19:09:37.096713Z",
     "shell.execute_reply": "2024-04-25T19:09:37.095697Z"
    },
    "executionInfo": {
     "elapsed": 3,
     "status": "aborted",
     "timestamp": 1713964833593,
     "user": {
      "displayName": "Jimmy Knox",
      "userId": "00773664586105526662"
     },
     "user_tz": -120
    },
    "id": "VMzN82anHj0K",
    "papermill": {
     "duration": 4.02611,
     "end_time": "2024-04-25T19:09:37.098813",
     "exception": false,
     "start_time": "2024-04-25T19:09:33.072703",
     "status": "completed"
    },
    "tags": []
   },
   "outputs": [
    {
     "data": {
      "text/plain": [
       "'die voraussetzungen des $ $ $ $ $ $ $ $ $ $ $ $ $ $ $ $ $ $ $ $ $ $'"
      ]
     },
     "execution_count": 31,
     "metadata": {},
     "output_type": "execute_result"
    }
   ],
   "source": [
    "generate_text(model,tokenizer,seq_len,seed_text=seed_text,num_gen_words=25)"
   ]
  },
  {
   "cell_type": "code",
   "execution_count": 32,
   "id": "546035c6",
   "metadata": {
    "execution": {
     "iopub.execute_input": "2024-04-25T19:09:41.915564Z",
     "iopub.status.busy": "2024-04-25T19:09:41.914661Z",
     "iopub.status.idle": "2024-04-25T19:09:42.002492Z",
     "shell.execute_reply": "2024-04-25T19:09:42.001555Z"
    },
    "executionInfo": {
     "elapsed": 3,
     "status": "aborted",
     "timestamp": 1713964833593,
     "user": {
      "displayName": "Jimmy Knox",
      "userId": "00773664586105526662"
     },
     "user_tz": -120
    },
    "id": "VMzN82anHj0K",
    "papermill": {
     "duration": 2.515815,
     "end_time": "2024-04-25T19:09:42.004456",
     "exception": false,
     "start_time": "2024-04-25T19:09:39.488641",
     "status": "completed"
    },
    "tags": []
   },
   "outputs": [
    {
     "data": {
      "text/plain": [
       "(array([ 3,  1, 50]),\n",
       " array([0.06599554, 0.05759018, 0.05666592], dtype=float32),\n",
       " array([4.4420689e-10, 5.7590175e-02, 1.5502315e-02, ..., 3.3011792e-17,\n",
       "        6.4396360e-20, 4.7454757e-12], dtype=float32))"
      ]
     },
     "execution_count": 32,
     "metadata": {},
     "output_type": "execute_result"
    }
   ],
   "source": [
    "generate_text(model,tokenizer,seq_len,seed_text=seed_text,num_gen_words=1)"
   ]
  },
  {
   "cell_type": "code",
   "execution_count": 33,
   "id": "ef35ef1e",
   "metadata": {
    "execution": {
     "iopub.execute_input": "2024-04-25T19:09:46.955447Z",
     "iopub.status.busy": "2024-04-25T19:09:46.954523Z",
     "iopub.status.idle": "2024-04-25T19:09:47.057974Z",
     "shell.execute_reply": "2024-04-25T19:09:47.057044Z"
    },
    "papermill": {
     "duration": 2.531254,
     "end_time": "2024-04-25T19:09:47.060041",
     "exception": false,
     "start_time": "2024-04-25T19:09:44.528787",
     "status": "completed"
    },
    "tags": []
   },
   "outputs": [
    {
     "data": {
      "text/html": [
       "<div>\n",
       "<style scoped>\n",
       "    .dataframe tbody tr th:only-of-type {\n",
       "        vertical-align: middle;\n",
       "    }\n",
       "\n",
       "    .dataframe tbody tr th {\n",
       "        vertical-align: top;\n",
       "    }\n",
       "\n",
       "    .dataframe thead th {\n",
       "        text-align: right;\n",
       "    }\n",
       "</style>\n",
       "<table border=\"1\" class=\"dataframe\">\n",
       "  <thead>\n",
       "    <tr style=\"text-align: right;\">\n",
       "      <th></th>\n",
       "      <th>0</th>\n",
       "    </tr>\n",
       "  </thead>\n",
       "  <tbody>\n",
       "    <tr>\n",
       "      <th>count</th>\n",
       "      <td>1.872970e+05</td>\n",
       "    </tr>\n",
       "    <tr>\n",
       "      <th>mean</th>\n",
       "      <td>5.339116e-06</td>\n",
       "    </tr>\n",
       "    <tr>\n",
       "      <th>std</th>\n",
       "      <td>3.288187e-04</td>\n",
       "    </tr>\n",
       "    <tr>\n",
       "      <th>min</th>\n",
       "      <td>1.486649e-37</td>\n",
       "    </tr>\n",
       "    <tr>\n",
       "      <th>25%</th>\n",
       "      <td>2.430519e-17</td>\n",
       "    </tr>\n",
       "    <tr>\n",
       "      <th>50%</th>\n",
       "      <td>7.245422e-15</td>\n",
       "    </tr>\n",
       "    <tr>\n",
       "      <th>75%</th>\n",
       "      <td>1.594704e-12</td>\n",
       "    </tr>\n",
       "    <tr>\n",
       "      <th>max</th>\n",
       "      <td>6.599554e-02</td>\n",
       "    </tr>\n",
       "  </tbody>\n",
       "</table>\n",
       "</div>"
      ],
      "text/plain": [
       "                  0\n",
       "count  1.872970e+05\n",
       "mean   5.339116e-06\n",
       "std    3.288187e-04\n",
       "min    1.486649e-37\n",
       "25%    2.430519e-17\n",
       "50%    7.245422e-15\n",
       "75%    1.594704e-12\n",
       "max    6.599554e-02"
      ]
     },
     "execution_count": 33,
     "metadata": {},
     "output_type": "execute_result"
    }
   ],
   "source": [
    "_, __, array = generate_text(model,tokenizer,seq_len,seed_text=seed_text,num_gen_words=1)\n",
    "\n",
    "import pandas as pd\n",
    "df = pd.DataFrame(array)\n",
    "df.describe()"
   ]
  }
 ],
 "metadata": {
  "colab": {
   "provenance": []
  },
  "kaggle": {
   "accelerator": "gpu",
   "dataSources": [
    {
     "datasetId": 4871498,
     "sourceId": 8225835,
     "sourceType": "datasetVersion"
    },
    {
     "isSourceIdPinned": true,
     "modelInstanceId": 31474,
     "sourceId": 39196,
     "sourceType": "modelInstanceVersion"
    }
   ],
   "dockerImageVersionId": 30699,
   "isGpuEnabled": true,
   "isInternetEnabled": true,
   "language": "python",
   "sourceType": "notebook"
  },
  "kernelspec": {
   "display_name": "Python 3",
   "language": "python",
   "name": "python3"
  },
  "language_info": {
   "codemirror_mode": {
    "name": "ipython",
    "version": 3
   },
   "file_extension": ".py",
   "mimetype": "text/x-python",
   "name": "python",
   "nbconvert_exporter": "python",
   "pygments_lexer": "ipython3",
   "version": "3.10.13"
  },
  "papermill": {
   "default_parameters": {},
   "duration": 13579.193708,
   "end_time": "2024-04-25T19:09:52.323793",
   "environment_variables": {},
   "exception": null,
   "input_path": "__notebook__.ipynb",
   "output_path": "__notebook__.ipynb",
   "parameters": {},
   "start_time": "2024-04-25T15:23:33.130085",
   "version": "2.5.0"
  }
 },
 "nbformat": 4,
 "nbformat_minor": 5
}
